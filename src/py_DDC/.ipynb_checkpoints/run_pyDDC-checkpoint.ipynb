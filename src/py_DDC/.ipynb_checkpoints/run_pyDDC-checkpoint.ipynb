{
 "cells": [
  {
   "cell_type": "code",
   "execution_count": 388,
   "metadata": {},
   "outputs": [],
   "source": [
    "import numpy as np\n",
    "import pandas as pd\n",
    "from numpy.linalg import inv\n",
    "from scipy.stats import zscore"
   ]
  },
  {
   "cell_type": "code",
   "execution_count": 389,
   "metadata": {},
   "outputs": [],
   "source": [
    "def estimators(V_obs, thres, TR):\n",
    "    T, N = np.shape(V_obs)\n",
    "    Cov = np.cov(V_obs, rowvar=False)\n",
    "    precision = inv(Cov)\n",
    "    Fx = V_obs - thres\n",
    "    Fx[Fx < 0] = 0\n",
    "    tmp = np.hstack((Fx, V_obs))\n",
    "    B_tmp = np.cov(tmp, rowvar=False)\n",
    "    B = B_tmp[0:N,N:]\n",
    "    dV = np.array(((-1/2*V_obs[0:-2,:]+1/2*V_obs[2:, :])) / TR)\n",
    "    rowmean = np.mean(dV, axis=0)\n",
    "    dV = np.vstack([rowmean, dV, rowmean])\n",
    "    tmp_2 = np.hstack((dV, V_obs))\n",
    "    dCov = tmp_2[0:N,N+1:]\n",
    "\n",
    "    return Cov, precision, B, dCov"
   ]
  },
  {
   "cell_type": "code",
   "execution_count": 390,
   "metadata": {},
   "outputs": [],
   "source": [
    "def derivative_123(f, dm, dt):\n",
    "    t = np.arange(dm, len(f) - dm)\n",
    "    D1, D2, D3 = 0, 0, 0\n",
    "    d1, d2, d3 = 0, 0, 0\n",
    "    for n1 in range(1, dm + 1):\n",
    "        #n1i = n1 - 1\n",
    "        for n2 in range(n1 + 1, dm + 1):\n",
    "            #n2i = n2 - 1 \n",
    "            d1 += 1\n",
    "            D1 += -((f[t - n2] * n1 ** 3 - f[t + n2] * n1 ** 3 - f[t - n1] * n2 ** 3 + f[t + n1] * n2 ** 3) / \n",
    "                    (2 * dt * n1 ** 3 * n2 - 2 * dt * n1 * n2 ** 3))\n",
    "            \"\"\"\n",
    "            for n3 in range(n2 + 1, dm + 1):\n",
    "                #n3i = n3-1\n",
    "                d3 += 1\n",
    "                D3 += (3 * (f[t - n3i] * n1 * n2 * (n1 ** 4 - n2 ** 4) + \n",
    "                            f[t + n3i] * (-(n1 ** 5 * n2) + n1 * n2 ** 5) + \n",
    "                            n3 * ((f[t - n1i] - f[t + n1i]) * n2 * (n2 ** 4 - n3 ** 4) + \n",
    "                                  f[t + n2i] * (n1 ** 5 - n1 * n3 ** 4) + f[t - n2i] * (-n1 ** 5 + n1 * n3 ** 4)))) / \\\n",
    "                      (dt ** 3 * n1 * (n1 ** 2 - n2 ** 2) * n3 * (n1 ** 2 - n3 ** 2) * (n2 ** 3 - n2 * n3 ** 2))\n",
    "\n",
    "            d2 += 1\n",
    "            D2 += (f[t - n2i] * n1 ** 4 + f[t + n2i] * n1 ** 4 - f[t - n1i] * n2 ** 4 - f[t + n1i] * n2 ** 4 - \n",
    "                   2 * f[t] * (n1 ** 4 - n2 ** 4)) / \\\n",
    "                  (dt ** 2 * n2 ** 2 * (n1 ** 4 - n1 ** 2 * n2 ** 2))\n",
    "            \"\"\"\n",
    "    D1 = D1 / d1\n",
    "    #D2 = D2 / d2\n",
    "    #D3 = D3 / d3\n",
    "\n",
    "    return D1, D2, D3\n"
   ]
  },
  {
   "cell_type": "code",
   "execution_count": 391,
   "metadata": {},
   "outputs": [],
   "source": [
    "def dCov_numerical(cx, h, dm=4):\n",
    "    T, N = np.shape(cx)\n",
    "    diff_cx = np.array((cx[1:,:] - cx[0:-1, :]) / h)\n",
    "    rowmean = np.mean(diff_cx, axis=0)\n",
    "    diff_cx = np.vstack([diff_cx, rowmean])\n",
    "    Csample = np.cov(np.hstack((diff_cx, cx)).T)\n",
    "    dCov1 = Csample[0:N,N:N+N]\n",
    "\n",
    "    diff_cx = np.array((1/2*cx[2:,:] -(1/2* cx[0:-2, :])) / h)\n",
    "    rowmean = np.mean(diff_cx, axis=0)\n",
    "    diff_cx = np.vstack([rowmean, diff_cx, rowmean])\n",
    "    Csample = np.cov(np.hstack((diff_cx, cx)).T)\n",
    "    dCov2 = Csample[0:N,N:N+N]\n",
    "\n",
    "    diff_cx = np.array((-cx[4:,:] + 8*cx[3:-1,:] - 8*cx[1:-3,:] +cx[:-4,:]) / (12*h))\n",
    "    rowmean = np.mean(diff_cx, axis=0)\n",
    "    diff_cx = np.vstack([rowmean, rowmean, diff_cx, rowmean, rowmean])\n",
    "    Csample = np.cov(np.hstack((diff_cx, cx)).T)\n",
    "    dCov5 = Csample[0:N,N:N+N]\n",
    "\n",
    "    \n",
    "\n",
    "    diff_cx = None\n",
    "    for i in range(N):\n",
    "        dx, _, _ = derivative_123(cx[:, i], dm, h)\n",
    "        if diff_cx is None:\n",
    "            diff_cx = dx\n",
    "        else:\n",
    "            diff_cx = np.c_[diff_cx, dx]\n",
    "    cx_trunc = cx[dm:T-dm,:]\n",
    "    Csample = np.cov(np.hstack((diff_cx, cx_trunc)).T)\n",
    "    dCov_center = Csample[:N, N:N+N]\n",
    "\n",
    "    return dCov1,dCov2,dCov5,dCov_center\n"
   ]
  },
  {
   "cell_type": "code",
   "execution_count": 392,
   "metadata": {},
   "outputs": [],
   "source": [
    "def prctile(x, p):\n",
    "    p = np.asarray(p, dtype=float)\n",
    "    n = len(x)\n",
    "    p = (p-50)*n/(n-1) + 50\n",
    "    p = np.clip(p, 0, 100)\n",
    "    return np.percentile(x, p)"
   ]
  },
  {
   "cell_type": "code",
   "execution_count": 393,
   "metadata": {},
   "outputs": [
    {
     "data": {
      "text/plain": [
       "(367, 68)"
      ]
     },
     "execution_count": 393,
     "metadata": {},
     "output_type": "execute_result"
    }
   ],
   "source": [
    "tsfile = './fmris/sub-NDARINV0AUBJJJ4/filt_cortex_fMRI_segmented_sub-NDARINV0AUBJJJ4run-01.csv'\n",
    "ts = np.loadtxt(tsfile, delimiter=',', dtype=float)\n",
    "ts.shape"
   ]
  },
  {
   "cell_type": "code",
   "execution_count": 400,
   "metadata": {},
   "outputs": [
    {
     "data": {
      "text/plain": [
       "(68, 68)"
      ]
     },
     "execution_count": 400,
     "metadata": {},
     "output_type": "execute_result"
    }
   ],
   "source": [
    "TR = 0.8; \n",
    "T, N = ts.shape; # number of timepoints x number of nodes\n",
    "V_obs = zscore(ts, ddof=1)\n",
    "dCov1, dCov2,_,center = dCov_numerical(V_obs,TR);\n",
    "Cov,Precision,B,_ = estimators(V_obs,0,TR);\n",
    "Delta_L = center@Precision\n",
    "Delta_ReLU = dCov2*B\n",
    "Delta_L.shape"
   ]
  },
  {
   "cell_type": "code",
   "execution_count": 401,
   "metadata": {},
   "outputs": [
    {
     "data": {
      "text/plain": [
       "array([[ 7.16465382e-04,  5.36750934e-03, -2.73192826e-02, ...,\n",
       "         8.22440194e-03,  3.23617233e-03,  7.71325167e-03],\n",
       "       [-9.35231416e-04, -9.36917228e-04, -1.78403718e-02, ...,\n",
       "        -3.15980233e-03,  5.65252288e-03,  3.18354823e-03],\n",
       "       [ 2.66800407e-02,  1.90288576e-02, -4.63845250e-05, ...,\n",
       "         4.06764457e-03,  1.07739435e-02,  1.86815511e-02],\n",
       "       ...,\n",
       "       [-4.19224544e-03,  1.44151829e-03, -2.17268579e-03, ...,\n",
       "         2.16546473e-04, -1.65235030e-03, -2.67788387e-03],\n",
       "       [ 1.30431341e-04, -7.18012802e-03, -9.00257743e-03, ...,\n",
       "         2.36584831e-03,  4.82575464e-04,  3.28816122e-03],\n",
       "       [-5.98828425e-03, -4.34586173e-03, -1.73755244e-02, ...,\n",
       "         3.33705904e-03, -2.31901744e-03,  5.01547610e-04]])"
      ]
     },
     "execution_count": 401,
     "metadata": {},
     "output_type": "execute_result"
    }
   ],
   "source": [
    "center"
   ]
  },
  {
   "cell_type": "code",
   "execution_count": 402,
   "metadata": {},
   "outputs": [
    {
     "data": {
      "text/plain": [
       "array([[ 9.01484916, -0.80815131, -0.97071265, ..., -1.47760106,\n",
       "         2.15542826, -1.87162226],\n",
       "       [-0.80815131,  2.93975505,  0.31641696, ..., -0.61374634,\n",
       "        -0.77748235,  2.33778419],\n",
       "       [-0.97071265,  0.31641696,  7.15345058, ...,  2.31448056,\n",
       "        -0.16360875,  3.28721358],\n",
       "       ...,\n",
       "       [-1.47760106, -0.61374634,  2.31448056, ..., 55.76667488,\n",
       "        -4.88571855, -1.01619915],\n",
       "       [ 2.15542826, -0.77748235, -0.16360875, ..., -4.88571855,\n",
       "        25.10965047, -1.68877275],\n",
       "       [-1.87162226,  2.33778419,  3.28721358, ..., -1.01619915,\n",
       "        -1.68877275, 73.05235003]])"
      ]
     },
     "execution_count": 402,
     "metadata": {},
     "output_type": "execute_result"
    }
   ],
   "source": [
    "Precision"
   ]
  },
  {
   "cell_type": "code",
   "execution_count": 403,
   "metadata": {},
   "outputs": [
    {
     "data": {
      "text/plain": [
       "False"
      ]
     },
     "execution_count": 403,
     "metadata": {},
     "output_type": "execute_result"
    }
   ],
   "source": [
    "dlfile = './DDCs/sub-NDARINV0AUBJJJ4/single_sessions/filt_Delta L2H_run-01.csv'\n",
    "testDelta_L = np.loadtxt(dlfile, delimiter=',', dtype=float)\n",
    "np.array_equal(testDelta_L, Delta_L)"
   ]
  },
  {
   "cell_type": "code",
   "execution_count": 404,
   "metadata": {},
   "outputs": [
    {
     "data": {
      "text/plain": [
       "array([[-0.08209714, -0.01212881, -0.04720035, ..., -0.18272432,\n",
       "        -0.12435587,  0.31324009],\n",
       "       [ 0.00738799,  0.00576266,  0.08762491, ..., -0.19988729,\n",
       "         0.06827439,  0.25615478],\n",
       "       [ 0.06404091, -0.06286554,  0.03069371, ..., -0.24099516,\n",
       "        -0.0078175 ,  0.09305206],\n",
       "       ...,\n",
       "       [-0.01951206,  0.0206396 ,  0.02037973, ...,  0.06622316,\n",
       "        -0.0714124 , -0.00033882],\n",
       "       [ 0.01794749, -0.01120599, -0.02750831, ...,  0.03458623,\n",
       "        -0.02000681, -0.09457319],\n",
       "       [-0.02212936,  0.00078395, -0.00509806, ...,  0.01920872,\n",
       "        -0.04685521,  0.09066656]])"
      ]
     },
     "execution_count": 404,
     "metadata": {},
     "output_type": "execute_result"
    }
   ],
   "source": [
    "Delta_L"
   ]
  },
  {
   "cell_type": "code",
   "execution_count": 405,
   "metadata": {},
   "outputs": [
    {
     "data": {
      "text/plain": [
       "array([[ 0.0033889,  0.024068 , -0.15167  , ..., -0.16583  ,  0.16173  ,\n",
       "         0.04138  ],\n",
       "       [-0.0098724,  0.0041335, -0.11938  , ..., -0.017587 ,  0.061366 ,\n",
       "         0.3448   ],\n",
       "       [ 0.11388  ,  0.01864  , -0.043326 , ..., -0.18733  , -0.030289 ,\n",
       "        -0.2382   ],\n",
       "       ...,\n",
       "       [-0.031051 , -0.026717 , -0.029394 , ..., -0.045604 ,  0.046975 ,\n",
       "         0.012065 ],\n",
       "       [-0.041227 , -0.0025689, -0.0023082, ..., -0.022688 , -0.0042614,\n",
       "        -0.050982 ],\n",
       "       [-0.0097826, -0.012141 ,  0.011893 , ..., -0.062413 ,  0.0030344,\n",
       "         0.036124 ]])"
      ]
     },
     "execution_count": 405,
     "metadata": {},
     "output_type": "execute_result"
    }
   ],
   "source": [
    "testDelta_L"
   ]
  },
  {
   "cell_type": "code",
   "execution_count": null,
   "metadata": {},
   "outputs": [],
   "source": []
  },
  {
   "cell_type": "code",
   "execution_count": null,
   "metadata": {},
   "outputs": [],
   "source": []
  }
 ],
 "metadata": {
  "kernelspec": {
   "display_name": "Python 3 (ipykernel)",
   "language": "python",
   "name": "python3"
  },
  "language_info": {
   "codemirror_mode": {
    "name": "ipython",
    "version": 3
   },
   "file_extension": ".py",
   "mimetype": "text/x-python",
   "name": "python",
   "nbconvert_exporter": "python",
   "pygments_lexer": "ipython3",
   "version": "3.9.12"
  },
  "vscode": {
   "interpreter": {
    "hash": "31f2aee4e71d21fbe5cf8b01ff0e069b9275f58929596ceb00d14d90e3e16cd6"
   }
  }
 },
 "nbformat": 4,
 "nbformat_minor": 2
}
