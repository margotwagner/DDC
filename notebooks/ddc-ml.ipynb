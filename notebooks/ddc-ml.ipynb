{
 "cells": [
  {
   "cell_type": "markdown",
   "metadata": {},
   "source": [
    "This notebook is a first-pass analysis of control vs depressed baseline functional connectivity using supervised classification to determine if there is a difference."
   ]
  },
  {
   "cell_type": "code",
   "execution_count": 1,
   "metadata": {},
   "outputs": [
    {
     "data": {
      "text/plain": [
       "<Figure size 640x480 with 0 Axes>"
      ]
     },
     "metadata": {},
     "output_type": "display_data"
    },
    {
     "data": {
      "text/plain": [
       "<Figure size 640x480 with 0 Axes>"
      ]
     },
     "metadata": {},
     "output_type": "display_data"
    },
    {
     "data": {
      "text/plain": [
       "<Figure size 640x480 with 0 Axes>"
      ]
     },
     "metadata": {},
     "output_type": "display_data"
    }
   ],
   "source": [
    "import sys\n",
    "sys.path.append('../src')\n",
    "from FunctionalConnectivity import FunctionalConnectivity\n",
    "import pandas as pd\n",
    "import numpy as np\n",
    "from sklearn.model_selection import train_test_split"
   ]
  },
  {
   "cell_type": "code",
   "execution_count": 2,
   "metadata": {},
   "outputs": [],
   "source": [
    "# Get labels\n",
    "labels = pd.read_csv(\"/cnl/abcd/data/labels/baseline_depr.csv\", header=None, index_col=0)"
   ]
  },
  {
   "cell_type": "code",
   "execution_count": 3,
   "metadata": {},
   "outputs": [],
   "source": [
    "DDC_path = \"/nadata/cnl/abcd/data/imaging/fmri/rsfmri/interim/DDC/baseline_depr/\"\n",
    "fig_dir = \"../figures/\""
   ]
  },
  {
   "cell_type": "code",
   "execution_count": 4,
   "metadata": {},
   "outputs": [],
   "source": [
    "# Two hemisphere FC\n",
    "fc = FunctionalConnectivity(\n",
    "    labels,\n",
    "    n_roi=98,\n",
    "    thrs=0.1,\n",
    "    weights_file_name=\"subc_DDC*.csv\",\n",
    "    DDC_path=DDC_path,\n",
    "    fig_dir=fig_dir,\n",
    ")"
   ]
  },
  {
   "cell_type": "code",
   "execution_count": null,
   "metadata": {},
   "outputs": [],
   "source": [
    "# Control dataset\n",
    "ctrl = pd.DataFrame(fc.get_flat_network_ddc(\"DMN\", \"control\"), index = fc.control_subj_ids)\n",
    "ctrl[\"label\"] = [0] * ctrl.shape[0]"
   ]
  },
  {
   "cell_type": "code",
   "execution_count": null,
   "metadata": {},
   "outputs": [],
   "source": [
    "# Depressed dataset\n",
    "depr = pd.DataFrame(fc.get_flat_network_ddc(\"DMN\", \"depr\"), index = fc.depress_subj_ids)\n",
    "depr[\"label\"] = [0] * depr.shape[0]"
   ]
  },
  {
   "cell_type": "code",
   "execution_count": null,
   "metadata": {},
   "outputs": [],
   "source": [
    "# Split subjects into train/test sets\n",
    "train_subj, test_subj, _, _ = train_test_split(labels.index, labels.values, stratify=labels.values, test_size=0.2, random_state=42)"
   ]
  },
  {
   "cell_type": "code",
   "execution_count": null,
   "metadata": {},
   "outputs": [
    {
     "data": {
      "text/plain": [
       "Index(['NDARINVDLEMTN1E', 'NDARINV1CXXN3K0', 'NDARINVLU2M4RX1',\n",
       "       'NDARINVT185D4UD', 'NDARINVAWBG0K00', 'NDARINVZU422XFY',\n",
       "       'NDARINVEU6H3VU0', 'NDARINVRBVRP43D', 'NDARINVBRT7E7UK',\n",
       "       'NDARINV6AR47APF',\n",
       "       ...\n",
       "       'NDARINVHUWCJ9BX', 'NDARINVTTDWMW0G', 'NDARINVLH8GZ09D',\n",
       "       'NDARINVE4YNZCW7', 'NDARINVZH1A3UUP', 'NDARINVMN4MAMYN',\n",
       "       'NDARINV8WBV631M', 'NDARINVZM3MAF8B', 'NDARINV8J6JMUXE',\n",
       "       'NDARINVX22VK0BH'],\n",
       "      dtype='object', name=0, length=1425)"
      ]
     },
     "execution_count": 8,
     "metadata": {},
     "output_type": "execute_result"
    }
   ],
   "source": [
    "train_subj"
   ]
  },
  {
   "cell_type": "code",
   "execution_count": null,
   "metadata": {},
   "outputs": [],
   "source": [
    "# Standard Scale the data\n"
   ]
  }
 ],
 "metadata": {
  "kernelspec": {
   "display_name": "Python 3",
   "language": "python",
   "name": "python3"
  },
  "language_info": {
   "codemirror_mode": {
    "name": "ipython",
    "version": 3
   },
   "file_extension": ".py",
   "mimetype": "text/x-python",
   "name": "python",
   "nbconvert_exporter": "python",
   "pygments_lexer": "ipython3",
   "version": "3.9.18"
  }
 },
 "nbformat": 4,
 "nbformat_minor": 2
}
