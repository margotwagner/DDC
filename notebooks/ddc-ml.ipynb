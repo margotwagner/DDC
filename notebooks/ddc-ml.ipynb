{
 "cells": [
  {
   "cell_type": "markdown",
   "metadata": {},
   "source": [
    "This notebook is a first-pass analysis of control vs depressed baseline functional connectivity using supervised classification to determine if there is a difference."
   ]
  },
  {
   "cell_type": "code",
   "execution_count": 1,
   "metadata": {},
   "outputs": [
    {
     "data": {
      "text/plain": [
       "<Figure size 640x480 with 0 Axes>"
      ]
     },
     "metadata": {},
     "output_type": "display_data"
    },
    {
     "data": {
      "text/plain": [
       "<Figure size 640x480 with 0 Axes>"
      ]
     },
     "metadata": {},
     "output_type": "display_data"
    },
    {
     "data": {
      "text/plain": [
       "<Figure size 640x480 with 0 Axes>"
      ]
     },
     "metadata": {},
     "output_type": "display_data"
    }
   ],
   "source": [
    "import sys\n",
    "sys.path.append('../src')\n",
    "from FunctionalConnectivity import FunctionalConnectivity\n",
    "import pandas as pd\n",
    "import numpy as np\n",
    "from sklearn.model_selection import train_test_split"
   ]
  },
  {
   "cell_type": "code",
   "execution_count": 2,
   "metadata": {},
   "outputs": [],
   "source": [
    "# Get labels\n",
    "labels = pd.read_csv(\"/cnl/abcd/data/labels/baseline_depr.csv\", header=None, index_col=0)"
   ]
  },
  {
   "cell_type": "code",
   "execution_count": 3,
   "metadata": {},
   "outputs": [],
   "source": [
    "DDC_path = \"/nadata/cnl/abcd/data/imaging/fmri/rsfmri/interim/DDC/baseline_depr/\"\n",
    "fig_dir = \"../figures/\""
   ]
  },
  {
   "cell_type": "code",
   "execution_count": 4,
   "metadata": {},
   "outputs": [
    {
     "ename": "KeyboardInterrupt",
     "evalue": "",
     "output_type": "error",
     "traceback": [
      "\u001b[0;31m---------------------------------------------------------------------------\u001b[0m",
      "\u001b[0;31mKeyboardInterrupt\u001b[0m                         Traceback (most recent call last)",
      "\u001b[1;32m/home/mwagner/projects/DDC/notebooks/ddc-ml.ipynb Cell 5\u001b[0m line \u001b[0;36m2\n\u001b[1;32m      <a href='vscode-notebook-cell://ssh-remote%2Bcannon/home/mwagner/projects/DDC/notebooks/ddc-ml.ipynb#W4sdnNjb2RlLXJlbW90ZQ%3D%3D?line=0'>1</a>\u001b[0m \u001b[39m# Two hemisphere FC\u001b[39;00m\n\u001b[0;32m----> <a href='vscode-notebook-cell://ssh-remote%2Bcannon/home/mwagner/projects/DDC/notebooks/ddc-ml.ipynb#W4sdnNjb2RlLXJlbW90ZQ%3D%3D?line=1'>2</a>\u001b[0m fc \u001b[39m=\u001b[39m FunctionalConnectivity(\n\u001b[1;32m      <a href='vscode-notebook-cell://ssh-remote%2Bcannon/home/mwagner/projects/DDC/notebooks/ddc-ml.ipynb#W4sdnNjb2RlLXJlbW90ZQ%3D%3D?line=2'>3</a>\u001b[0m     labels,\n\u001b[1;32m      <a href='vscode-notebook-cell://ssh-remote%2Bcannon/home/mwagner/projects/DDC/notebooks/ddc-ml.ipynb#W4sdnNjb2RlLXJlbW90ZQ%3D%3D?line=3'>4</a>\u001b[0m     n_roi\u001b[39m=\u001b[39;49m\u001b[39m98\u001b[39;49m,\n\u001b[1;32m      <a href='vscode-notebook-cell://ssh-remote%2Bcannon/home/mwagner/projects/DDC/notebooks/ddc-ml.ipynb#W4sdnNjb2RlLXJlbW90ZQ%3D%3D?line=4'>5</a>\u001b[0m     thrs\u001b[39m=\u001b[39;49m\u001b[39m0.1\u001b[39;49m,\n\u001b[1;32m      <a href='vscode-notebook-cell://ssh-remote%2Bcannon/home/mwagner/projects/DDC/notebooks/ddc-ml.ipynb#W4sdnNjb2RlLXJlbW90ZQ%3D%3D?line=5'>6</a>\u001b[0m     weights_file_name\u001b[39m=\u001b[39;49m\u001b[39m\"\u001b[39;49m\u001b[39msubc_DDC*.csv\u001b[39;49m\u001b[39m\"\u001b[39;49m,\n\u001b[1;32m      <a href='vscode-notebook-cell://ssh-remote%2Bcannon/home/mwagner/projects/DDC/notebooks/ddc-ml.ipynb#W4sdnNjb2RlLXJlbW90ZQ%3D%3D?line=6'>7</a>\u001b[0m     DDC_path\u001b[39m=\u001b[39;49mDDC_path,\n\u001b[1;32m      <a href='vscode-notebook-cell://ssh-remote%2Bcannon/home/mwagner/projects/DDC/notebooks/ddc-ml.ipynb#W4sdnNjb2RlLXJlbW90ZQ%3D%3D?line=7'>8</a>\u001b[0m     fig_dir\u001b[39m=\u001b[39;49mfig_dir,\n\u001b[1;32m      <a href='vscode-notebook-cell://ssh-remote%2Bcannon/home/mwagner/projects/DDC/notebooks/ddc-ml.ipynb#W4sdnNjb2RlLXJlbW90ZQ%3D%3D?line=8'>9</a>\u001b[0m )\n",
      "File \u001b[0;32m/nadata/cnl/home/mwagner/projects/DDC/notebooks/../src/FunctionalConnectivity.py:157\u001b[0m, in \u001b[0;36mFunctionalConnectivity.__init__\u001b[0;34m(self, labels, n_roi, thrs, weights_file_name, DDC_path, fig_dir)\u001b[0m\n\u001b[1;32m    138\u001b[0m     \u001b[39mself\u001b[39m\u001b[39m.\u001b[39mpositions \u001b[39m=\u001b[39m pd\u001b[39m.\u001b[39mread_csv(\n\u001b[1;32m    139\u001b[0m         \u001b[39m\"\u001b[39m\u001b[39m/nadata/cnl/abcd/data/imaging/fmri/rsfmri/interim/segmented/baseline/downloads/sub-NDARINV04GAB2AA/ROIs_centroid_coordinates.csv\u001b[39m\u001b[39m\"\u001b[39m\n\u001b[1;32m    140\u001b[0m     )[\u001b[39m30\u001b[39m:]\n\u001b[1;32m    142\u001b[0m \u001b[39m# builds the dataset and assign the output to the variables\u001b[39;00m\n\u001b[1;32m    143\u001b[0m (\n\u001b[1;32m    144\u001b[0m     \u001b[39mself\u001b[39m\u001b[39m.\u001b[39mno_weights,\n\u001b[1;32m    145\u001b[0m     \u001b[39mself\u001b[39m\u001b[39m.\u001b[39mmissing_rois,\n\u001b[1;32m    146\u001b[0m     \u001b[39mself\u001b[39m\u001b[39m.\u001b[39mdepr_files,\n\u001b[1;32m    147\u001b[0m     \u001b[39mself\u001b[39m\u001b[39m.\u001b[39mctrl_files,\n\u001b[1;32m    148\u001b[0m     \u001b[39mself\u001b[39m\u001b[39m.\u001b[39mcontrol_weights,\n\u001b[1;32m    149\u001b[0m     \u001b[39mself\u001b[39m\u001b[39m.\u001b[39mdepress_weights,\n\u001b[1;32m    150\u001b[0m     \u001b[39mself\u001b[39m\u001b[39m.\u001b[39mcontrol_weights_vec,\n\u001b[1;32m    151\u001b[0m     \u001b[39mself\u001b[39m\u001b[39m.\u001b[39mdepress_weights_vec,\n\u001b[1;32m    152\u001b[0m     \u001b[39mself\u001b[39m\u001b[39m.\u001b[39mcontrol,\n\u001b[1;32m    153\u001b[0m     \u001b[39mself\u001b[39m\u001b[39m.\u001b[39mdepress,\n\u001b[1;32m    154\u001b[0m     \u001b[39mself\u001b[39m\u001b[39m.\u001b[39mcontrol_subj_ids,\n\u001b[1;32m    155\u001b[0m     \u001b[39mself\u001b[39m\u001b[39m.\u001b[39mdepress_subj_ids,\n\u001b[1;32m    156\u001b[0m     \u001b[39mself\u001b[39m\u001b[39m.\u001b[39mlabels\n\u001b[0;32m--> 157\u001b[0m ) \u001b[39m=\u001b[39m \u001b[39mself\u001b[39;49m\u001b[39m.\u001b[39;49mbuild_dataset()\n",
      "File \u001b[0;32m/nadata/cnl/home/mwagner/projects/DDC/notebooks/../src/FunctionalConnectivity.py:192\u001b[0m, in \u001b[0;36mFunctionalConnectivity.build_dataset\u001b[0;34m(self, is_cov)\u001b[0m\n\u001b[1;32m    189\u001b[0m \u001b[39mif\u001b[39;00m \u001b[39mnot\u001b[39;00m \u001b[39mlen\u001b[39m(d) \u001b[39m<\u001b[39m \u001b[39mself\u001b[39m\u001b[39m.\u001b[39mn_roi:\n\u001b[1;32m    190\u001b[0m     \u001b[39mif\u001b[39;00m \u001b[39msum\u001b[39m(\u001b[39msum\u001b[39m(np\u001b[39m.\u001b[39misnan(d))) \u001b[39m<\u001b[39m \u001b[39m1\u001b[39m:\n\u001b[1;32m    191\u001b[0m         control_weights[n_ctrl_files, :, :] \u001b[39m=\u001b[39m np\u001b[39m.\u001b[39masarray(\n\u001b[0;32m--> 192\u001b[0m             pd\u001b[39m.\u001b[39;49mread_csv(f, header\u001b[39m=\u001b[39;49m\u001b[39mNone\u001b[39;49;00m)\n\u001b[1;32m    193\u001b[0m         )\n\u001b[1;32m    195\u001b[0m         \u001b[39m# Threshold binarization (to be replaced by bootstrap) and reshape\u001b[39;00m\n\u001b[1;32m    196\u001b[0m         control_weights_vec[n_ctrl_files, :] \u001b[39m=\u001b[39m np\u001b[39m.\u001b[39mreshape(\n\u001b[1;32m    197\u001b[0m             (\u001b[39mabs\u001b[39m(control_weights[n_ctrl_files, :, :]) \u001b[39m>\u001b[39m \u001b[39mself\u001b[39m\u001b[39m.\u001b[39mthrs) \u001b[39m*\u001b[39m \u001b[39m1\u001b[39m,\n\u001b[1;32m    198\u001b[0m             (\u001b[39m1\u001b[39m, \u001b[39mself\u001b[39m\u001b[39m.\u001b[39mn_roi \u001b[39m*\u001b[39m \u001b[39mself\u001b[39m\u001b[39m.\u001b[39mn_roi),\n\u001b[1;32m    199\u001b[0m         )\n",
      "File \u001b[0;32m~/bin/anaconda3/envs/ddc-eda/lib/python3.9/site-packages/pandas/io/parsers/readers.py:948\u001b[0m, in \u001b[0;36mread_csv\u001b[0;34m(filepath_or_buffer, sep, delimiter, header, names, index_col, usecols, dtype, engine, converters, true_values, false_values, skipinitialspace, skiprows, skipfooter, nrows, na_values, keep_default_na, na_filter, verbose, skip_blank_lines, parse_dates, infer_datetime_format, keep_date_col, date_parser, date_format, dayfirst, cache_dates, iterator, chunksize, compression, thousands, decimal, lineterminator, quotechar, quoting, doublequote, escapechar, comment, encoding, encoding_errors, dialect, on_bad_lines, delim_whitespace, low_memory, memory_map, float_precision, storage_options, dtype_backend)\u001b[0m\n\u001b[1;32m    935\u001b[0m kwds_defaults \u001b[39m=\u001b[39m _refine_defaults_read(\n\u001b[1;32m    936\u001b[0m     dialect,\n\u001b[1;32m    937\u001b[0m     delimiter,\n\u001b[0;32m   (...)\u001b[0m\n\u001b[1;32m    944\u001b[0m     dtype_backend\u001b[39m=\u001b[39mdtype_backend,\n\u001b[1;32m    945\u001b[0m )\n\u001b[1;32m    946\u001b[0m kwds\u001b[39m.\u001b[39mupdate(kwds_defaults)\n\u001b[0;32m--> 948\u001b[0m \u001b[39mreturn\u001b[39;00m _read(filepath_or_buffer, kwds)\n",
      "File \u001b[0;32m~/bin/anaconda3/envs/ddc-eda/lib/python3.9/site-packages/pandas/io/parsers/readers.py:617\u001b[0m, in \u001b[0;36m_read\u001b[0;34m(filepath_or_buffer, kwds)\u001b[0m\n\u001b[1;32m    614\u001b[0m     \u001b[39mreturn\u001b[39;00m parser\n\u001b[1;32m    616\u001b[0m \u001b[39mwith\u001b[39;00m parser:\n\u001b[0;32m--> 617\u001b[0m     \u001b[39mreturn\u001b[39;00m parser\u001b[39m.\u001b[39;49mread(nrows)\n",
      "File \u001b[0;32m~/bin/anaconda3/envs/ddc-eda/lib/python3.9/site-packages/pandas/io/parsers/readers.py:1765\u001b[0m, in \u001b[0;36mTextFileReader.read\u001b[0;34m(self, nrows)\u001b[0m\n\u001b[1;32m   1762\u001b[0m     \u001b[39melse\u001b[39;00m:\n\u001b[1;32m   1763\u001b[0m         new_rows \u001b[39m=\u001b[39m \u001b[39mlen\u001b[39m(index)\n\u001b[0;32m-> 1765\u001b[0m     df \u001b[39m=\u001b[39m DataFrame(col_dict, columns\u001b[39m=\u001b[39;49mcolumns, index\u001b[39m=\u001b[39;49mindex)\n\u001b[1;32m   1767\u001b[0m     \u001b[39mself\u001b[39m\u001b[39m.\u001b[39m_currow \u001b[39m+\u001b[39m\u001b[39m=\u001b[39m new_rows\n\u001b[1;32m   1768\u001b[0m \u001b[39mreturn\u001b[39;00m df\n",
      "File \u001b[0;32m~/bin/anaconda3/envs/ddc-eda/lib/python3.9/site-packages/pandas/core/frame.py:733\u001b[0m, in \u001b[0;36mDataFrame.__init__\u001b[0;34m(self, data, index, columns, dtype, copy)\u001b[0m\n\u001b[1;32m    727\u001b[0m     mgr \u001b[39m=\u001b[39m \u001b[39mself\u001b[39m\u001b[39m.\u001b[39m_init_mgr(\n\u001b[1;32m    728\u001b[0m         data, axes\u001b[39m=\u001b[39m{\u001b[39m\"\u001b[39m\u001b[39mindex\u001b[39m\u001b[39m\"\u001b[39m: index, \u001b[39m\"\u001b[39m\u001b[39mcolumns\u001b[39m\u001b[39m\"\u001b[39m: columns}, dtype\u001b[39m=\u001b[39mdtype, copy\u001b[39m=\u001b[39mcopy\n\u001b[1;32m    729\u001b[0m     )\n\u001b[1;32m    731\u001b[0m \u001b[39melif\u001b[39;00m \u001b[39misinstance\u001b[39m(data, \u001b[39mdict\u001b[39m):\n\u001b[1;32m    732\u001b[0m     \u001b[39m# GH#38939 de facto copy defaults to False only in non-dict cases\u001b[39;00m\n\u001b[0;32m--> 733\u001b[0m     mgr \u001b[39m=\u001b[39m dict_to_mgr(data, index, columns, dtype\u001b[39m=\u001b[39;49mdtype, copy\u001b[39m=\u001b[39;49mcopy, typ\u001b[39m=\u001b[39;49mmanager)\n\u001b[1;32m    734\u001b[0m \u001b[39melif\u001b[39;00m \u001b[39misinstance\u001b[39m(data, ma\u001b[39m.\u001b[39mMaskedArray):\n\u001b[1;32m    735\u001b[0m     \u001b[39mfrom\u001b[39;00m \u001b[39mnumpy\u001b[39;00m\u001b[39m.\u001b[39;00m\u001b[39mma\u001b[39;00m \u001b[39mimport\u001b[39;00m mrecords\n",
      "File \u001b[0;32m~/bin/anaconda3/envs/ddc-eda/lib/python3.9/site-packages/pandas/core/internals/construction.py:476\u001b[0m, in \u001b[0;36mdict_to_mgr\u001b[0;34m(data, index, columns, dtype, typ, copy)\u001b[0m\n\u001b[1;32m    473\u001b[0m             arrays\u001b[39m.\u001b[39mloc[missing] \u001b[39m=\u001b[39m rhs\n\u001b[1;32m    475\u001b[0m     arrays \u001b[39m=\u001b[39m \u001b[39mlist\u001b[39m(arrays)\n\u001b[0;32m--> 476\u001b[0m     columns \u001b[39m=\u001b[39m ensure_index(columns)\n\u001b[1;32m    478\u001b[0m \u001b[39melse\u001b[39;00m:\n\u001b[1;32m    479\u001b[0m     keys \u001b[39m=\u001b[39m \u001b[39mlist\u001b[39m(data\u001b[39m.\u001b[39mkeys())\n",
      "File \u001b[0;32m~/bin/anaconda3/envs/ddc-eda/lib/python3.9/site-packages/pandas/core/indexes/base.py:7566\u001b[0m, in \u001b[0;36mensure_index\u001b[0;34m(index_like, copy)\u001b[0m\n\u001b[1;32m   7564\u001b[0m         \u001b[39mreturn\u001b[39;00m MultiIndex\u001b[39m.\u001b[39mfrom_arrays(index_like)\n\u001b[1;32m   7565\u001b[0m     \u001b[39melse\u001b[39;00m:\n\u001b[0;32m-> 7566\u001b[0m         \u001b[39mreturn\u001b[39;00m Index(index_like, copy\u001b[39m=\u001b[39;49mcopy, tupleize_cols\u001b[39m=\u001b[39;49m\u001b[39mFalse\u001b[39;49;00m)\n\u001b[1;32m   7567\u001b[0m \u001b[39melse\u001b[39;00m:\n\u001b[1;32m   7568\u001b[0m     \u001b[39mreturn\u001b[39;00m Index(index_like, copy\u001b[39m=\u001b[39mcopy)\n",
      "File \u001b[0;32m~/bin/anaconda3/envs/ddc-eda/lib/python3.9/site-packages/pandas/core/indexes/base.py:487\u001b[0m, in \u001b[0;36mIndex.__new__\u001b[0;34m(cls, data, dtype, copy, name, tupleize_cols)\u001b[0m\n\u001b[1;32m    477\u001b[0m \u001b[39mdef\u001b[39;00m \u001b[39m__new__\u001b[39m(\n\u001b[1;32m    478\u001b[0m     \u001b[39mcls\u001b[39m,\n\u001b[1;32m    479\u001b[0m     data\u001b[39m=\u001b[39m\u001b[39mNone\u001b[39;00m,\n\u001b[0;32m   (...)\u001b[0m\n\u001b[1;32m    483\u001b[0m     tupleize_cols: \u001b[39mbool\u001b[39m \u001b[39m=\u001b[39m \u001b[39mTrue\u001b[39;00m,\n\u001b[1;32m    484\u001b[0m ) \u001b[39m-\u001b[39m\u001b[39m>\u001b[39m Index:\n\u001b[1;32m    485\u001b[0m     \u001b[39mfrom\u001b[39;00m \u001b[39mpandas\u001b[39;00m\u001b[39m.\u001b[39;00m\u001b[39mcore\u001b[39;00m\u001b[39m.\u001b[39;00m\u001b[39mindexes\u001b[39;00m\u001b[39m.\u001b[39;00m\u001b[39mrange\u001b[39;00m \u001b[39mimport\u001b[39;00m RangeIndex\n\u001b[0;32m--> 487\u001b[0m     name \u001b[39m=\u001b[39m maybe_extract_name(name, data, \u001b[39mcls\u001b[39;49m)\n\u001b[1;32m    489\u001b[0m     \u001b[39mif\u001b[39;00m dtype \u001b[39mis\u001b[39;00m \u001b[39mnot\u001b[39;00m \u001b[39mNone\u001b[39;00m:\n\u001b[1;32m    490\u001b[0m         dtype \u001b[39m=\u001b[39m pandas_dtype(dtype)\n",
      "File \u001b[0;32m~/bin/anaconda3/envs/ddc-eda/lib/python3.9/site-packages/pandas/core/indexes/base.py:7611\u001b[0m, in \u001b[0;36mmaybe_extract_name\u001b[0;34m(name, obj, cls)\u001b[0m\n\u001b[1;32m   7607\u001b[0m \u001b[39mdef\u001b[39;00m \u001b[39mmaybe_extract_name\u001b[39m(name, obj, \u001b[39mcls\u001b[39m) \u001b[39m-\u001b[39m\u001b[39m>\u001b[39m Hashable:\n\u001b[1;32m   7608\u001b[0m \u001b[39m    \u001b[39m\u001b[39m\"\"\"\u001b[39;00m\n\u001b[1;32m   7609\u001b[0m \u001b[39m    If no name is passed, then extract it from data, validating hashability.\u001b[39;00m\n\u001b[1;32m   7610\u001b[0m \u001b[39m    \"\"\"\u001b[39;00m\n\u001b[0;32m-> 7611\u001b[0m     \u001b[39mif\u001b[39;00m name \u001b[39mis\u001b[39;00m \u001b[39mNone\u001b[39;00m \u001b[39mand\u001b[39;00m \u001b[39misinstance\u001b[39;49m(obj, (Index, ABCSeries)):\n\u001b[1;32m   7612\u001b[0m         \u001b[39m# Note we don't just check for \"name\" attribute since that would\u001b[39;00m\n\u001b[1;32m   7613\u001b[0m         \u001b[39m#  pick up e.g. dtype.name\u001b[39;00m\n\u001b[1;32m   7614\u001b[0m         name \u001b[39m=\u001b[39m obj\u001b[39m.\u001b[39mname\n\u001b[1;32m   7616\u001b[0m     \u001b[39m# GH#29069\u001b[39;00m\n",
      "\u001b[0;31mKeyboardInterrupt\u001b[0m: "
     ]
    }
   ],
   "source": [
    "# Two hemisphere FC\n",
    "fc = FunctionalConnectivity(\n",
    "    labels,\n",
    "    n_roi=98,\n",
    "    thrs=0.1,\n",
    "    weights_file_name=\"subc_DDC*.csv\",\n",
    "    DDC_path=DDC_path,\n",
    "    fig_dir=fig_dir,\n",
    ")"
   ]
  },
  {
   "cell_type": "code",
   "execution_count": null,
   "metadata": {},
   "outputs": [],
   "source": [
    "# Control dataset\n",
    "ctrl = pd.DataFrame(fc.get_flat_network_ddc(\"DMN\", \"control\"), index = fc.control_subj_ids)\n",
    "ctrl[\"label\"] = [0] * ctrl.shape[0]"
   ]
  },
  {
   "cell_type": "code",
   "execution_count": null,
   "metadata": {},
   "outputs": [],
   "source": [
    "# Depressed dataset\n",
    "depr = pd.DataFrame(fc.get_flat_network_ddc(\"DMN\", \"depr\"), index = fc.depress_subj_ids)\n",
    "depr[\"label\"] = [0] * depr.shape[0]"
   ]
  },
  {
   "cell_type": "code",
   "execution_count": null,
   "metadata": {},
   "outputs": [],
   "source": [
    "# Split subjects into train/test sets\n",
    "train_subj, test_subj, _, _ = train_test_split(labels.index, labels.values, stratify=labels.values, test_size=0.2, random_state=42)"
   ]
  },
  {
   "cell_type": "code",
   "execution_count": null,
   "metadata": {},
   "outputs": [
    {
     "data": {
      "text/plain": [
       "Index(['NDARINVDLEMTN1E', 'NDARINV1CXXN3K0', 'NDARINVLU2M4RX1',\n",
       "       'NDARINVT185D4UD', 'NDARINVAWBG0K00', 'NDARINVZU422XFY',\n",
       "       'NDARINVEU6H3VU0', 'NDARINVRBVRP43D', 'NDARINVBRT7E7UK',\n",
       "       'NDARINV6AR47APF',\n",
       "       ...\n",
       "       'NDARINVHUWCJ9BX', 'NDARINVTTDWMW0G', 'NDARINVLH8GZ09D',\n",
       "       'NDARINVE4YNZCW7', 'NDARINVZH1A3UUP', 'NDARINVMN4MAMYN',\n",
       "       'NDARINV8WBV631M', 'NDARINVZM3MAF8B', 'NDARINV8J6JMUXE',\n",
       "       'NDARINVX22VK0BH'],\n",
       "      dtype='object', name=0, length=1425)"
      ]
     },
     "execution_count": 8,
     "metadata": {},
     "output_type": "execute_result"
    }
   ],
   "source": [
    "train_subj"
   ]
  },
  {
   "cell_type": "code",
   "execution_count": null,
   "metadata": {},
   "outputs": [],
   "source": [
    "# Standard Scale the data\n"
   ]
  }
 ],
 "metadata": {
  "kernelspec": {
   "display_name": "Python 3",
   "language": "python",
   "name": "python3"
  },
  "language_info": {
   "codemirror_mode": {
    "name": "ipython",
    "version": 3
   },
   "file_extension": ".py",
   "mimetype": "text/x-python",
   "name": "python",
   "nbconvert_exporter": "python",
   "pygments_lexer": "ipython3",
   "version": "3.9.18"
  }
 },
 "nbformat": 4,
 "nbformat_minor": 2
}
